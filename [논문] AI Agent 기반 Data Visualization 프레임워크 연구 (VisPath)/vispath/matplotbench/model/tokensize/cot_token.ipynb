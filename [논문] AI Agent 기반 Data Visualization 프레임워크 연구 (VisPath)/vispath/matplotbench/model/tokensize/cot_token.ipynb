{
 "cells": [
  {
   "cell_type": "code",
   "execution_count": 1,
   "metadata": {},
   "outputs": [],
   "source": [
    "import asyncio\n",
    "import re\n",
    "import os\n",
    "import pandas as pd\n",
    "from openai import AsyncOpenAI\n",
    "from dotenv import load_dotenv\n",
    "\n",
    "# Load environment variables\n",
    "load_dotenv()\n",
    "\n",
    "class CoT:\n",
    "    def __init__(self, api_key=None, base_url=None, model=\"gpt-4o-mini\", system_prompt=None, temperature=0.2):\n",
    "        # Use environment variables if no parameters are provided\n",
    "        self.api_key = api_key or os.getenv(\"API_KEY\")\n",
    "        self.base_url = base_url or os.getenv(\"BASE_URL\")\n",
    "        self.model = model\n",
    "        self.system_prompt = system_prompt or \"Think step by step. Based on the user's query, generate Python code using `matplotlib.pyplot` and 'seaborn' to create the requested plot. Ensure the code is outputted within the Markdown format like ```python\\n...```.\"\n",
    "        self.temperature = temperature\n",
    "        # Initialize OpenAI client\n",
    "        self.client = AsyncOpenAI(\n",
    "            api_key=self.api_key,\n",
    "            base_url=self.base_url\n",
    "        )\n",
    "\n",
    "    def describe_data(self, data_path):\n",
    "\n",
    "        return str(data_path)\n",
    "\n",
    "    async def call_openai_api(self, user_query, data_description):\n",
    "        # Retry indefinitely until successful\n",
    "        while True:\n",
    "            try:\n",
    "                # Concatenate the data description and user query\n",
    "                # full_query = f\"Data Description: {data_description}\\nUser Query: {user_query}\"\n",
    "                full_query = f\"Data Path: {data_description}\\nUser Query: {user_query}\"\n",
    "                \n",
    "                # print(full_query)\n",
    "                \n",
    "                # Call OpenAI API to get the response\n",
    "                response = await self.client.chat.completions.create(\n",
    "                    model=self.model,\n",
    "                    messages=[\n",
    "                        {\"role\": \"system\", \"content\": self.system_prompt},\n",
    "                        {\"role\": \"user\", \"content\": full_query}\n",
    "                    ],\n",
    "                    temperature=self.temperature\n",
    "                )\n",
    "                prompt_tokens = response.usage.prompt_tokens\n",
    "                completion_tokens = response.usage.completion_tokens\n",
    "                total_tokens = response.usage.total_tokens\n",
    "            \n",
    "\n",
    "                # Extract the code content from the response\n",
    "                response_text = response.choices[0].message.content\n",
    "                match = re.search(r'```python\\n(.*?)```', response_text, flags=re.DOTALL)\n",
    "                print({\n",
    "                    \"prompt_tokens\": prompt_tokens,\n",
    "                    \"completion_tokens\": completion_tokens,\n",
    "                    \"total_tokens\": total_tokens\n",
    "                })\n",
    "                \n",
    "                if match:\n",
    "                    return match.group(1).strip()\n",
    "                else:\n",
    "                    return None\n",
    "            except Exception as e:\n",
    "                print(f\"API call failed with error: {e}. Retrying...\")\n",
    "\n",
    "    async def get_code_content(self, user_query, data_path_list, img_file_path=None):\n",
    "        # print(f'사용하는 모델 명 : {self.model}')        \n",
    "        data_description = []\n",
    "        # data_description = ''\n",
    "        if data_path_list:\n",
    "            for data_path in data_path_list:\n",
    "                root_path = os.path.abspath(os.path.dirname(os.curdir))\n",
    "                data_path = os.path.normpath(os.path.join(root_path, data_path))\n",
    "            data_description.append(data_path)\n",
    "        else:\n",
    "            data_description =  None\n",
    "        # Call API and return the generated code\n",
    "        code_content = await self.call_openai_api(user_query, data_description)\n",
    "        return code_content"
   ]
  },
  {
   "cell_type": "code",
   "execution_count": 2,
   "metadata": {},
   "outputs": [],
   "source": [
    "dataset_path = r\"..\\..\\dataset\\matplotbench_data.csv\"\n",
    "\n",
    "dataset_df = pd.read_csv(dataset_path)"
   ]
  },
  {
   "cell_type": "code",
   "execution_count": 3,
   "metadata": {},
   "outputs": [],
   "source": [
    "sample = [10, 20, 30, 40, 50]\n",
    "query_list = dataset_df.loc[sample,'simple_instruction']"
   ]
  },
  {
   "cell_type": "code",
   "execution_count": 4,
   "metadata": {},
   "outputs": [
    {
     "name": "stdout",
     "output_type": "stream",
     "text": [
      "{'prompt_tokens': 425, 'completion_tokens': 516, 'total_tokens': 941}\n",
      "{'prompt_tokens': 201, 'completion_tokens': 414, 'total_tokens': 615}\n",
      "{'prompt_tokens': 235, 'completion_tokens': 778, 'total_tokens': 1013}\n",
      "{'prompt_tokens': 274, 'completion_tokens': 568, 'total_tokens': 842}\n",
      "{'prompt_tokens': 314, 'completion_tokens': 618, 'total_tokens': 932}\n"
     ]
    }
   ],
   "source": [
    "zs = CoT()\n",
    "# user_query = \"Scatter plot을 그리고 싶어. X축과 Y축 데이터를 받아서 시각화해줘.\"\n",
    "for user_query in query_list:\n",
    "    code_content = await zs.get_code_content(user_query, None)\n",
    "# print(\"🔹 생성된 코드:\\n\", code_content)"
   ]
  },
  {
   "cell_type": "markdown",
   "metadata": {},
   "source": [
    "prompt_tokens: 289.8\n",
    "\n",
    "completion_tokens: 578.8\n",
    "\n",
    "total_tokens: 868.6"
   ]
  }
 ],
 "metadata": {
  "kernelspec": {
   "display_name": "vispath",
   "language": "python",
   "name": "python3"
  },
  "language_info": {
   "codemirror_mode": {
    "name": "ipython",
    "version": 3
   },
   "file_extension": ".py",
   "mimetype": "text/x-python",
   "name": "python",
   "nbconvert_exporter": "python",
   "pygments_lexer": "ipython3",
   "version": "3.12.4"
  }
 },
 "nbformat": 4,
 "nbformat_minor": 2
}
