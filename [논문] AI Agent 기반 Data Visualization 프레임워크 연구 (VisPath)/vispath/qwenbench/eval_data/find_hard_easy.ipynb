{
 "cells": [
  {
   "cell_type": "code",
   "execution_count": 38,
   "metadata": {},
   "outputs": [],
   "source": [
    "import json\n",
    "import pandas as pd\n",
    "from glob import glob\n",
    "import random"
   ]
  },
  {
   "cell_type": "code",
   "execution_count": 39,
   "metadata": {},
   "outputs": [],
   "source": [
    "json_path = glob('*.jsonl')[-1]"
   ]
  },
  {
   "cell_type": "code",
   "execution_count": 40,
   "metadata": {},
   "outputs": [],
   "source": [
    "def load_jsonl(path):\n",
    "    data = []\n",
    "    with open(path, 'r', encoding='utf8') as f:\n",
    "        for idx, line in enumerate(f, start=1):\n",
    "            try:\n",
    "                data.append(json.loads(line))\n",
    "            except Exception as e:\n",
    "                continue\n",
    "    return data"
   ]
  },
  {
   "cell_type": "code",
   "execution_count": 41,
   "metadata": {},
   "outputs": [],
   "source": [
    "data = []\n",
    "with open(json_path, 'r', encoding = 'utf-8-sig') as f:\n",
    "    for idx, line in enumerate(f):\n",
    "        data.append(json.loads(line))"
   ]
  },
  {
   "cell_type": "code",
   "execution_count": 42,
   "metadata": {},
   "outputs": [],
   "source": [
    "json_df = pd.DataFrame(data)"
   ]
  },
  {
   "cell_type": "code",
   "execution_count": 43,
   "metadata": {},
   "outputs": [],
   "source": [
    "hard_df = json_df[json_df['query'].apply(lambda x : '<|im_end|>' in x)]"
   ]
  },
  {
   "cell_type": "code",
   "execution_count": 44,
   "metadata": {},
   "outputs": [
    {
     "name": "stdout",
     "output_type": "stream",
     "text": [
      "### Hard Vis Query for ID[9] ###\n",
      "\n",
      " Display an image, i.e., data of a 2D function<|im_end|>\n",
      "<|im_start|>assistant\n",
      "Fantastic, you've uploaded the file named \"data.csv\". This file presumably contains data of a 2D function. To visualize the data as an image, we'll load and reshape the data, then plot it with the help of a library called matplotlib.\n",
      "Thought: Firstly, I need to use the code interpreter API to load the data and taking a look at the first few rows to understand what we're working with.\n",
      "Action: code_interpreter\n",
      "Action Input:\n",
      "```py\n",
      "import pandas as pd\n",
      "# Load the data\n",
      "df = pd.read_csv(\"data.csv\")\n",
      "# Display the first few rows of the dataframe\n",
      "df.head()\n",
      "```\n",
      "Observation: The output is:\n",
      "```\n",
      "          Z\n",
      "0 -0.000004\n",
      "1 -0.000021\n",
      "2 -0.000075\n",
      "3 -0.000213\n",
      "4 -0.000533\n",
      "```\n",
      "Thought:\n",
      "\n",
      "\n",
      "\n",
      "### Easy Vis Query for ID[72] ###\n",
      "\n",
      " Visualize a large number of time series in 3 different ways\n"
     ]
    }
   ],
   "source": [
    "cnt = hard_df.shape[0]\n",
    "hard_random_id = random.randint(0, cnt-1)\n",
    "easy_random_id = random.randint(cnt, json_df.shape[0]-1)\n",
    "\n",
    "print(f\"### Hard Vis Query for ID[{hard_random_id}] ###\\n\\n\", json_df.loc[hard_random_id, 'query'])\n",
    "print(f'\\n\\n')\n",
    "print(f\"### Easy Vis Query for ID[{easy_random_id}] ###\\n\\n\", json_df.loc[easy_random_id, 'query'])"
   ]
  }
 ],
 "metadata": {
  "kernelspec": {
   "display_name": "vispath",
   "language": "python",
   "name": "python3"
  },
  "language_info": {
   "codemirror_mode": {
    "name": "ipython",
    "version": 3
   },
   "file_extension": ".py",
   "mimetype": "text/x-python",
   "name": "python",
   "nbconvert_exporter": "python",
   "pygments_lexer": "ipython3",
   "version": "3.12.4"
  }
 },
 "nbformat": 4,
 "nbformat_minor": 2
}
