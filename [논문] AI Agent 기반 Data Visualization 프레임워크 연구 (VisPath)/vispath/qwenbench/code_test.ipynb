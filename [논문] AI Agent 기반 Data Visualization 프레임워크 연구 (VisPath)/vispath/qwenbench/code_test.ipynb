{
 "cells": [
  {
   "cell_type": "code",
   "execution_count": null,
   "id": "17f640b9",
   "metadata": {},
   "outputs": [],
   "source": [
    "import pandas as pd\n"
   ]
  },
  {
   "cell_type": "code",
   "execution_count": 5,
   "id": "4756940b",
   "metadata": {},
   "outputs": [],
   "source": [
    "generated_code_list = [(\"import pandas as pd\\nimport matplotlib.pyplot as plt\\nimport matplotlib.ticker as ticker\\n\\n# Load the data\\ndf = pd.read_csv('C:\\\\\\\\Users\\\\\\\\LeeSeungYong\\\\\\\\myproject\\\\\\\\paper\\\\\\\\vispath\\\\\\\\qwenbench/upload_file\\\\\\\\tmp_upload_file/mtn2YKVVsyK3svydKMQyeB/data.csv')\\n\\n# Create a line plot\\nplt.plot(df['x'])\\n\\n# Set the x-axis formatter to scientific notation\\nplt.gca().xaxis.set_major_formatter(ticker.ScalarFormatter())\\n\\n# Display the plot\\nplt.show()\", None, 'C:/Users/LeeSeungYong/myproject/paper/vispath/qwenbench/result/vispath/gpt-4o-mini/imgs_vispath/1_path0.png'), (\"import pandas as pd\\nimport matplotlib.pyplot as plt\\nimport matplotlib.ticker as ticker\\n\\n# Load the data\\ndf = pd.read_csv('C:\\\\\\\\Users\\\\\\\\LeeSeungYong\\\\\\\\myproject\\\\\\\\paper\\\\\\\\vispath\\\\\\\\qwenbench/upload_file\\\\\\\\tmp_upload_file/mtn2YKVVsyK3svydKMQyeB/data.csv')\\n\\n# Create a bar plot\\nplt.bar(range(len(df)), df['x'])\\n\\n# Define a formatting function for currency\\ndef format_currency(x, pos):\\n    return f'${x:.2f}'\\n\\n# Set the x-axis formatter to use the currency formatting function\\nplt.gca().xaxis.set_major_formatter(ticker.FuncFormatter(format_currency))\\n\\n# Display the plot\\nplt.show()\", None, 'C:/Users/LeeSeungYong/myproject/paper/vispath/qwenbench/result/vispath/gpt-4o-mini/imgs_vispath/1_path1.png'), (\"import pandas as pd\\nimport matplotlib.pyplot as plt\\nimport matplotlib.ticker as ticker\\n\\n# Load the data\\ndf = pd.read_csv('C:\\\\\\\\Users\\\\\\\\LeeSeungYong\\\\\\\\myproject\\\\\\\\paper\\\\\\\\vispath\\\\\\\\qwenbench/upload_file\\\\\\\\tmp_upload_file/mtn2YKVVsyK3svydKMQyeB/data.csv')\\n\\n# Create a scatter plot\\nplt.scatter(range(len(df)), df['x'])\\n\\n# Set the y-axis formatter to percentage format\\nplt.gca().yaxis.set_major_formatter(ticker.PercentFormatter(1.0))\\n\\n# Display the plot\\nplt.show()\", None, 'C:/Users/LeeSeungYong/myproject/paper/vispath/qwenbench/result/vispath/gpt-4o-mini/imgs_vispath/1_path2.png')]\n",
    "new_img_path_list = ['C:/Users/LeeSeungYong/myproject/paper/vispath/qwenbench/result/vispath/gpt-4o-mini/imgs_vispath/1_path0.png', 'C:/Users/LeeSeungYong/myproject/paper/vispath/qwenbench/result/vispath/gpt-4o-mini/imgs_vispath/1_path1.png', 'C:/Users/LeeSeungYong/myproject/paper/vispath/qwenbench/result/vispath/gpt-4o-mini/imgs_vispath/1_path2.png']"
   ]
  },
  {
   "cell_type": "code",
   "execution_count": 6,
   "id": "a690d5c4",
   "metadata": {},
   "outputs": [
    {
     "name": "stdout",
     "output_type": "stream",
     "text": [
      "import pandas as pd\n",
      "import matplotlib.pyplot as plt\n",
      "import matplotlib.ticker as ticker\n",
      "\n",
      "# Load the data\n",
      "df = pd.read_csv('C:\\\\Users\\\\LeeSeungYong\\\\myproject\\\\paper\\\\vispath\\\\qwenbench/upload_file\\\\tmp_upload_file/mtn2YKVVsyK3svydKMQyeB/data.csv')\n",
      "\n",
      "# Create a line plot\n",
      "plt.plot(df['x'])\n",
      "\n",
      "# Set the x-axis formatter to scientific notation\n",
      "plt.gca().xaxis.set_major_formatter(ticker.ScalarFormatter())\n",
      "\n",
      "# Display the plot\n",
      "plt.show()\n",
      "\n",
      "None\n",
      "\n",
      "C:/Users/LeeSeungYong/myproject/paper/vispath/qwenbench/result/vispath/gpt-4o-mini/imgs_vispath/1_path0.png\n"
     ]
    }
   ],
   "source": [
    "for code_list in generated_code_list:\n",
    "    code, error, path = code_list\n",
    "    print(code)\n",
    "    print()\n",
    "    print(error)\n",
    "    print()\n",
    "    print(path)\n",
    "    break"
   ]
  },
  {
   "cell_type": "code",
   "execution_count": 14,
   "id": "925d20ea",
   "metadata": {},
   "outputs": [
    {
     "data": {
      "text/plain": [
       "(\"import pandas as pd\\nimport matplotlib.pyplot as plt\\nimport matplotlib.ticker as ticker\\n\\n# Load the data\\ndf = pd.read_csv('C:\\\\\\\\Users\\\\\\\\LeeSeungYong\\\\\\\\myproject\\\\\\\\paper\\\\\\\\vispath\\\\\\\\qwenbench/upload_file\\\\\\\\tmp_upload_file/mtn2YKVVsyK3svydKMQyeB/data.csv')\\n\\n# Create a line plot\\nplt.plot(df['x'])\\n\\n# Set the x-axis formatter to scientific notation\\nplt.gca().xaxis.set_major_formatter(ticker.ScalarFormatter())\\n\\n# Display the plot\\nplt.show()\",\n",
       " None,\n",
       " 'C:/Users/LeeSeungYong/myproject/paper/vispath/qwenbench/result/vispath/gpt-4o-mini/imgs_vispath/1_path0.png')"
      ]
     },
     "execution_count": 14,
     "metadata": {},
     "output_type": "execute_result"
    }
   ],
   "source": [
    "generated_code_list[0]"
   ]
  },
  {
   "cell_type": "code",
   "execution_count": 20,
   "id": "b1d42f6a",
   "metadata": {},
   "outputs": [
    {
     "name": "stdout",
     "output_type": "stream",
     "text": [
      "C:/Users/LeeSeungYong/myproject/paper/vispath/qwenbench/result/vispath/gpt-4o-mini/imgs_vispath/1_path0.png\n",
      "C:/Users/LeeSeungYong/myproject/paper/vispath/qwenbench/result/vispath/gpt-4o-mini/imgs_vispath/1_path1.png\n",
      "C:/Users/LeeSeungYong/myproject/paper/vispath/qwenbench/result/vispath/gpt-4o-mini/imgs_vispath/1_path2.png\n"
     ]
    }
   ],
   "source": [
    "# tasks = [self.visual_feedback(ori_query, code, new_img_path) \n",
    "\n",
    "for generated_code, new_img_path in zip(generated_code_list, new_img_path_list):\n",
    "    code, error, new_path = generated_code\n",
    "    print(new_path)"
   ]
  },
  {
   "cell_type": "code",
   "execution_count": 26,
   "id": "59f3d4b8",
   "metadata": {},
   "outputs": [
    {
     "name": "stdout",
     "output_type": "stream",
     "text": [
      "C:\\Users\\LeeSeungYong\\myproject\\paper\\vispath\\qwenbench/result/vispath/gpt-4o-mini/imgs_vispath\n",
      "C:/Users/LeeSeungYong/myproject/paper/vispath/qwenbench/result/vispath/gpt-4o-mini/imgs_vispath/1_final.png\n"
     ]
    }
   ],
   "source": [
    "import os\n",
    "\n",
    "output_fname = r\"C:\\Users\\LeeSeungYong\\myproject\\paper\\vispath\\qwenbench/result/vispath/gpt-4o-mini\\logs_vispath_res.jsonl\"\n",
    "dir = os.path.splitext(output_fname)[0].rsplit('\\\\', 1)[0] + f'/imgs_vispath'\n",
    "print(dir)    \n",
    "path = str(dir).replace('\\\\', '/') + f'/1_final.png'\n",
    "print(path)        "
   ]
  },
  {
   "cell_type": "code",
   "execution_count": 6,
   "id": "e4394a23",
   "metadata": {},
   "outputs": [
    {
     "name": "stdout",
     "output_type": "stream",
     "text": [
      "import pandas as pd\n",
      "import matplotlib.pyplot as plt\n",
      "from matplotlib.ticker import FuncFormatter\n",
      "\n",
      "# Load the data\n",
      "df = pd.read_csv('C:\\\\Users\\\\LeeSeungYong\\\\myproject\\\\paper\\\\vispath\\\\qwenbench/upload_file\\\\tmp_upload_file/mtn2YKVVsyK3svydKMQyeB/data.csv')\n",
      "\n",
      "# Define a function to format the tick labels as percentages\n",
      "def to_percentage(x, pos):\n",
      "    return f'{x * 100:.0f}%'\n",
      "\n",
      "# Create the plot\n",
      "plt.plot(df['x'])\n",
      "\n",
      "# Apply the custom formatter to the x-axis\n",
      "plt.gca().xaxis.set_major_formatter(FuncFormatter(to_percentage))\n",
      "\n",
      "# Display the plot\n",
      "plt.show()\n"
     ]
    }
   ],
   "source": [
    "text1 = \"import pandas as pd\\nimport matplotlib.pyplot as plt\\nfrom matplotlib.ticker import FuncFormatter\\n\\n# Load the data\\ndf = pd.read_csv('C:\\\\\\\\Users\\\\\\\\LeeSeungYong\\\\\\\\myproject\\\\\\\\paper\\\\\\\\vispath\\\\\\\\qwenbench/upload_file\\\\\\\\tmp_upload_file/mtn2YKVVsyK3svydKMQyeB/data.csv')\\n\\n# Define a function to format the tick labels as percentages\\ndef to_percentage(x, pos):\\n    return f'{x * 100:.0f}%'\\n\\n# Create the plot\\nplt.plot(df['x'])\\n\\n# Apply the custom formatter to the x-axis\\nplt.gca().xaxis.set_major_formatter(FuncFormatter(to_percentage))\\n\\n# Display the plot\\nplt.show()\"\n",
    "text2 = \"C:/Users/LeeSeungYong/myproject/paper/vispath/qwenbench/result/vispath/gpt-4o-mini/imgs_vispath/1_path0.png\"\n",
    "print(text1)"
   ]
  },
  {
   "cell_type": "code",
   "execution_count": 9,
   "id": "a59176e2",
   "metadata": {},
   "outputs": [
    {
     "data": {
      "text/html": [
       "<div>\n",
       "<style scoped>\n",
       "    .dataframe tbody tr th:only-of-type {\n",
       "        vertical-align: middle;\n",
       "    }\n",
       "\n",
       "    .dataframe tbody tr th {\n",
       "        vertical-align: top;\n",
       "    }\n",
       "\n",
       "    .dataframe thead th {\n",
       "        text-align: right;\n",
       "    }\n",
       "</style>\n",
       "<table border=\"1\" class=\"dataframe\">\n",
       "  <thead>\n",
       "    <tr style=\"text-align: right;\">\n",
       "      <th></th>\n",
       "      <th>x</th>\n",
       "    </tr>\n",
       "  </thead>\n",
       "  <tbody>\n",
       "    <tr>\n",
       "      <th>0</th>\n",
       "      <td>0.00</td>\n",
       "    </tr>\n",
       "    <tr>\n",
       "      <th>1</th>\n",
       "      <td>0.01</td>\n",
       "    </tr>\n",
       "    <tr>\n",
       "      <th>2</th>\n",
       "      <td>0.02</td>\n",
       "    </tr>\n",
       "    <tr>\n",
       "      <th>3</th>\n",
       "      <td>0.03</td>\n",
       "    </tr>\n",
       "    <tr>\n",
       "      <th>4</th>\n",
       "      <td>0.04</td>\n",
       "    </tr>\n",
       "  </tbody>\n",
       "</table>\n",
       "</div>"
      ],
      "text/plain": [
       "      x\n",
       "0  0.00\n",
       "1  0.01\n",
       "2  0.02\n",
       "3  0.03\n",
       "4  0.04"
      ]
     },
     "execution_count": 9,
     "metadata": {},
     "output_type": "execute_result"
    }
   ],
   "source": [
    "df = pd.read_csv('C:\\\\Users\\\\LeeSeungYong\\\\myproject\\\\paper\\\\vispath\\\\qwenbench/upload_file\\\\tmp_upload_file/mtn2YKVVsyK3svydKMQyeB/data.csv')\n",
    "df.head()"
   ]
  },
  {
   "cell_type": "code",
   "execution_count": 7,
   "id": "7c329885",
   "metadata": {},
   "outputs": [
    {
     "data": {
      "image/png": "[encoded data removed]",
      "text/plain": [
       "<Figure size 640x480 with 1 Axes>"
      ]
     },
     "metadata": {},
     "output_type": "display_data"
    }
   ],
   "source": [
    "import pandas as pd\n",
    "import matplotlib.pyplot as plt\n",
    "from matplotlib.ticker import FuncFormatter\n",
    "\n",
    "# Load the data\n",
    "df = pd.read_csv('C:\\\\Users\\\\LeeSeungYong\\\\myproject\\\\paper\\\\vispath\\\\qwenbench/upload_file\\\\tmp_upload_file/mtn2YKVVsyK3svydKMQyeB/data.csv')\n",
    "\n",
    "# Define a function to format the tick labels as percentages\n",
    "def to_percentage(x, pos):\n",
    "    return f'{x * 100:.0f}%'\n",
    "\n",
    "# Create the plot\n",
    "plt.plot(df['x'])\n",
    "\n",
    "# Apply the custom formatter to the x-axis\n",
    "plt.gca().xaxis.set_major_formatter(FuncFormatter(to_percentage))\n",
    "\n",
    "# Display the plot\n",
    "plt.show()"
   ]
  }
 ],
 "metadata": {
  "kernelspec": {
   "display_name": ".venv",
   "language": "python",
   "name": "python3"
  },
  "language_info": {
   "codemirror_mode": {
    "name": "ipython",
    "version": 3
   },
   "file_extension": ".py",
   "mimetype": "text/x-python",
   "name": "python",
   "nbconvert_exporter": "python",
   "pygments_lexer": "ipython3",
   "version": "3.12.4"
  }
 },
 "nbformat": 4,
 "nbformat_minor": 5
}
