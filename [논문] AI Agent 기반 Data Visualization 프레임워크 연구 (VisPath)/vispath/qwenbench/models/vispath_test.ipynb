{
 "cells": [
  {
   "cell_type": "code",
   "execution_count": 18,
   "metadata": {},
   "outputs": [],
   "source": [
    "import os\n",
    "import pandas as pd\n",
    "\n",
    "# if 'upload_file' not in os.getcwd():\n",
    "#     os.chdir(\"../upload_file/\")\n",
    "\n",
    "# print(os.getcwd())"
   ]
  },
  {
   "cell_type": "code",
   "execution_count": null,
   "metadata": {},
   "outputs": [
    {
     "name": "stdout",
     "output_type": "stream",
     "text": [
      "c:\\Users\\LeeSeungYong\\myproject\\vispath\\qwenbench\\upload_file\n",
      "c:\\Users\\LeeSeungYong\\myproject\\vispath\\qwenbench\\upload_file\n"
     ]
    },
    {
     "data": {
      "text/plain": [
       "\"[{'data_path': 'C:/Users/LeeSeungYong/qwen/Qwen-Agent/benchmark/upload_file/tmp_upload_file/oKNzvxnAuMkDEvVWZ7efbc/data.csv', 'columns': ['x', 'y', 'z'], 'dtypes': {'x': 'float64', 'y': 'float64', 'z': 'float64'}, 'shape': (256, 3), 'sample': {'x': {0: -0.4978679717845562, 1: 1.3219469606529488, 2: -2.9993137510959307}, 'y': {0: 0.4482690282486139, 1: 0.7684571898441024, 2: -1.2865423098258364}, 'z': {0: 0.8352737520210216, 1: 0.4661541517071024, 2: -0.0057377804494658}}}]\""
      ]
     },
     "execution_count": 21,
     "metadata": {},
     "output_type": "execute_result"
    }
   ],
   "source": [
    "def describe_data(data_path):\n",
    "    if not data_path:\n",
    "        return \"No data file provided.\"\n",
    "    try:\n",
    "        data = pd.read_csv(path)\n",
    "        description = {\n",
    "            \"data_path\": path,\n",
    "            \"columns\": list(data.columns),\n",
    "            \"dtypes\": data.dtypes.apply(lambda x: x.name).to_dict(),\n",
    "            \"shape\": data.shape,\n",
    "            \"sample\": data.head(3).to_dict()\n",
    "        }\n",
    "        return str(description)\n",
    "    except Exception as e:\n",
    "        return f\"Error reading data file: {e}\"\n",
    "        \n",
    "def describe_data_list(data_path_list):\n",
    "    try:\n",
    "        data_description_list = []\n",
    "        print(os.getcwd())\n",
    "        if 'upload_file' not in os.getcwd():\n",
    "            os.chdir(\"../upload_file/\")\n",
    "        print(os.getcwd())\n",
    "        for data_path in data_path_list:\n",
    "            single_data_description = describe_data(data_path)\n",
    "            data_description_list.append(single_data_description)\n",
    "            data_description = \"[\" + \"], [\".join(data_description_list) + \"]\"\n",
    "    except:\n",
    "        data_description = 'There is no dataset provided, please generate code based on the content of query.'\n",
    "\n",
    "    return data_description\n",
    "\n",
    "data_path_list = [\"tmp_upload_file/oKNzvxnAuMkDEvVWZ7efbc/data.csv\"]\n",
    "\n",
    "describe_data_list(data_path_list)\n",
    "\n"
   ]
  },
  {
   "cell_type": "code",
   "execution_count": 32,
   "metadata": {},
   "outputs": [
    {
     "data": {
      "text/plain": [
       "\"[{'data_path': 'c:\\\\\\\\Users\\\\\\\\LeeSeungYong\\\\\\\\myproject\\\\\\\\vispath\\\\\\\\qwenbench\\\\\\\\upload_file\\\\\\\\tmp_upload_file\\\\\\\\oKNzvxnAuMkDEvVWZ7efbc\\\\\\\\data.csv', 'columns': ['x', 'y', 'z'], 'dtypes': {'x': 'float64', 'y': 'float64', 'z': 'float64'}, 'shape': (256, 3), 'sample': {'x': {0: -0.4978679717845562, 1: 1.3219469606529488, 2: -2.9993137510959307}, 'y': {0: 0.4482690282486139, 1: 0.7684571898441024, 2: -1.2865423098258364}, 'z': {0: 0.8352737520210216, 1: 0.4661541517071024, 2: -0.0057377804494658}}, 'cardinality': {}}]\""
      ]
     },
     "execution_count": 32,
     "metadata": {},
     "output_type": "execute_result"
    }
   ],
   "source": [
    "def describe_data(data_path):\n",
    "    if not data_path:\n",
    "        return \"No data file provided.\"\n",
    "    try:\n",
    "        data = pd.read_csv(data_path)\n",
    "        description = {\n",
    "            \"data_path\": data_path,\n",
    "            \"columns\": list(data.columns),\n",
    "            \"dtypes\": data.dtypes.apply(lambda x: x.name).to_dict(),\n",
    "            \"shape\": data.shape,\n",
    "            \"sample\": data.head(3).to_dict(),\n",
    "            \"cardinality\": {col: data[col].nunique() for col in data.select_dtypes(include=['object', 'category']).columns}\n",
    "        }\n",
    "        return str(description)\n",
    "    except Exception as e:\n",
    "        return f\"Error reading data file: {e}\"\n",
    "        \n",
    "def describe_data_list(data_path_list):\n",
    "    try:\n",
    "        data_description_list = []\n",
    "        for data_path in data_path_list:\n",
    "            # print(data_path)\n",
    "            root_path = os.path.abspath(os.path.join(os.path.dirname(os.curdir), '../upload_file/'))\n",
    "            # print(root_path)\n",
    "            data_path = os.path.normpath(os.path.join(root_path, data_path))\n",
    "            # print(data_path)\n",
    "            single_data_description = describe_data(data_path)\n",
    "            data_description_list.append(single_data_description)\n",
    "        data_description = \"[\" + \"], [\".join(data_description_list) + \"]\"\n",
    "    except:\n",
    "        data_description = 'There is no dataset provided, please generate code based on the content of query.'\n",
    "\n",
    "    return data_description\n",
    "\n",
    "data_path_list = [\"tmp_upload_file/oKNzvxnAuMkDEvVWZ7efbc/data.csv\"]\n",
    "\n",
    "describe_data_list(data_path_list)\n",
    "\n"
   ]
  },
  {
   "cell_type": "code",
   "execution_count": null,
   "metadata": {},
   "outputs": [],
   "source": []
  }
 ],
 "metadata": {
  "kernelspec": {
   "display_name": "vispath",
   "language": "python",
   "name": "python3"
  },
  "language_info": {
   "codemirror_mode": {
    "name": "ipython",
    "version": 3
   },
   "file_extension": ".py",
   "mimetype": "text/x-python",
   "name": "python",
   "nbconvert_exporter": "python",
   "pygments_lexer": "ipython3",
   "version": "3.12.4"
  }
 },
 "nbformat": 4,
 "nbformat_minor": 2
}
